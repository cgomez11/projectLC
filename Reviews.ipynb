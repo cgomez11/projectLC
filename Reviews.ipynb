{
 "cells": [
  {
   "cell_type": "markdown",
   "metadata": {},
   "source": [
    "## Meeting 06/07"
   ]
  },
  {
   "cell_type": "raw",
   "metadata": {},
   "source": [
    "1. Criteria based on observational data, how it mas measured and try to find the closest approach with my data.\n",
    "2. Different mass constraints if it is a Milky Way or Andromeda Candidate.\n",
    "3. Criterion of pairs with relative separations of at least 700 kpc: define an upper bound?\n",
    "4. Fix the implementation fo the isolation criterion (be careful to check all the objects within the sphere).\n",
    "5. Add the hubble flow to the computation of velocity.\n",
    "6. Define carefully: for each criterion we must select a field from the simulation, and then generate a number (size) of the sample.\n",
    "7. Visualize histograms of mass distribution after applying each criterion: identify the subpopulation within the original population. Both for stellar mass and halo mass samples. Distributions of distances within a pair, or velocities. \n",
    "8. Periodic conditions:\n",
    "- Use the periodic distance function.\n",
    "- Apply padding at the edges. (Duda: la continuidad es en cuál dimensión)\n",
    "- Ignore objects at the edges: reduce the volume \n",
    "Suggested papers:\n",
    "- https://arxiv.org/pdf/1507.03643.pdf\n",
    "- https://arxiv.org/pdf/1608.00971.pdf\n",
    "\n"
   ]
  },
  {
   "cell_type": "code",
   "execution_count": null,
   "metadata": {
    "collapsed": true
   },
   "outputs": [],
   "source": []
  }
 ],
 "metadata": {
  "kernelspec": {
   "display_name": "Python 3",
   "language": "python",
   "name": "python3"
  },
  "language_info": {
   "codemirror_mode": {
    "name": "ipython",
    "version": 3
   },
   "file_extension": ".py",
   "mimetype": "text/x-python",
   "name": "python",
   "nbconvert_exporter": "python",
   "pygments_lexer": "ipython3",
   "version": "3.6.0"
  }
 },
 "nbformat": 4,
 "nbformat_minor": 2
}
