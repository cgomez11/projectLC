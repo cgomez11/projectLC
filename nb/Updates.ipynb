{
 "cells": [
  {
   "cell_type": "markdown",
   "metadata": {},
   "source": [
    "## New document for comments and reviews"
   ]
  },
  {
   "cell_type": "markdown",
   "metadata": {},
   "source": [
    "## Meeting 06/07"
   ]
  },
  {
   "cell_type": "markdown",
   "metadata": {},
   "source": [
    "1) Criteria based on observational data, how it mas measured and try to find the closest approach with my data\n",
    "* Distances in the Local Group are measured with Cepheids. That's imposible to do with the simulation. The best approach is take positions as provide by the simulation.\n",
    "* Radial velocities are measured with spectra. Again the best approach is take peculiar velocities with cosmological expanstion taken into account.\n",
    "* Stellar mass is measured with K-band magnitudes. That could be done with the simulation. However, stellar masses quoted from observations are also OK. We don't need to be precise with the masses See item 2).\n",
    "* Dark Matter halo mass is constrained with rotation curves, that could be done with the simulation. But it would be a lot of work. Another option would be using v_max. But everyone uses M_200 masses when DM-only simulations are used (I would keep M_200 masses for that reason). Once again, the exact values are not relevant. See item 2)\n"
   ]
  },
  {
   "cell_type": "markdown",
   "metadata": {},
   "source": [
    "2) Different mass constraints if it is a Milky Way or Andromeda Candidate.\n",
    "- The important issue is not having two galaxies in the simulation consistent with the exact values of the MW and M31. Simply because it's highly unlikely to find two galaxies within the observational mass range at the same time. That's why all papers only use a lower bound for the masses (stellar or dark). Keeping this in mind, **getting right a minimal mass is the only important parameter**.\n",
    "\n",
    "- After preparing a sample with minimal cuts other people can try their own cuts.\n",
    "\n",
    "**Our goal is to provide a couple of general catalog of LG-like pairs, not to try out every possible cut with more or less precision.**"
   ]
  },
  {
   "cell_type": "markdown",
   "metadata": {},
   "source": [
    "3) Criterion of pairs with relative separations of at least 700 kpc: define an upper bound?\n",
    "   OK with the 700 kpc miminal cut. An upper bound is not needed. "
   ]
  },
  {
   "cell_type": "markdown",
   "metadata": {},
   "source": [
    "4) Fix the implementation fo the isolation criterion (be careful to check all the objects within the sphere of radius 3 times the distance between the two elements of the pair).\n"
   ]
  },
  {
   "cell_type": "markdown",
   "metadata": {},
   "source": [
    "5) Add the hubble flow to the computation of velocity. Agree."
   ]
  },
  {
   "cell_type": "markdown",
   "metadata": {},
   "source": [
    "6) Define carefully: for each criterion we must select a field from the simulation, and then generate a number (size) of the sample.\n",
    "-Agree. For stellar mass selection I suggest the corresponding item in`SubhaloMassInHalfRadType`. For dark matter selection I suggest `Group_M_Crit200`"
   ]
  },
  {
   "cell_type": "markdown",
   "metadata": {},
   "source": [
    "7) Visualize histograms of mass distribution after applying each criterion: identify the subpopulation within the original population. Both for stellar mass and halo mass samples. Distributions of distances within a pair, or velocities. "
   ]
  },
  {
   "cell_type": "markdown",
   "metadata": {},
   "source": [
    "8) Periodic conditions:\n",
    "- Ignore periodic conditions.\n",
    "- Use the periodic distance function.\n",
    "- Apply padding at the edges. (Duda: la continuidad es en cuál dimensión)\n",
    "- Ignore objects at the edges: reduce the volume.\n",
    "\n",
    "** Don't ignore objects at the edges!**\n",
    "\n",
    "Cell 21 shows the padding I do to select pairs http://nbviewer.jupyter.org/github/astroandes/IllustrisLG/blob/master/code/CollectPairsLG.ipynb\n"
   ]
  },
  {
   "cell_type": "markdown",
   "metadata": {},
   "source": [
    "9) Suggested papers:\n",
    "- https://arxiv.org/pdf/1507.03643.pdf\n",
    "- https://arxiv.org/pdf/1608.00971.pdf"
   ]
  },
  {
   "cell_type": "markdown",
   "metadata": {},
   "source": [
    "## Meeting 11/07"
   ]
  },
  {
   "cell_type": "markdown",
   "metadata": {},
   "source": [
    "Suggestions:\n",
    "1. Compare histograms applying after DM and stellar mass criteria.\n",
    "2. plots of pair positions, and velocities vs distance: use color to represent the mass of the pair.\n",
    "3. Plot velocity before applying cuts on radial or tangential velocity.\n",
    "4. In the isolation criterion: define an upper bound for objects that have a comparable mass (but not greater) to the less massive galaxy of the pair. \n",
    "5. Define statistics to study how common is the local group. How are we going to measure this? a percentage of the galaxies that fulfill the criteria?\n",
    "6. Padding: why are we losing some pairs? check the positions of the lost pairs. "
   ]
  },
  {
   "cell_type": "markdown",
   "metadata": {},
   "source": [
    "## Meeting 17/07"
   ]
  },
  {
   "cell_type": "markdown",
   "metadata": {},
   "source": [
    "1) For the DM selection: add two new fields: \n",
    "- isCentral: identify the central subhalos with the group field ['GroupFirstSub']\n",
    "- subhalo_MCrit_200: using [Group_MCrit_200'], extract only the masses of the subhalo parent groups (field ['subhaloGrNr']). We don't care about the others. \n",
    "\n",
    "\n",
    "NOTE: the only information we use from the group catalogue is the MCrit_200, positions and velocities are retrieved from the subhalos catalogue.\n",
    "\n",
    "++: compare DM selection using the field ['subhaloMass']"
   ]
  },
  {
   "cell_type": "markdown",
   "metadata": {},
   "source": [
    "2) Summarize the results from the samples obtained after the 4 criteria: define fractions of pairs with respect to the parent sample. \n",
    "- Think about what statement we want to make and how can we show it. \n",
    "- Define a space density n=[N pairs/ Mpc^3], how many pairs do we expect base don the volume of the universe that was observed?\n",
    "- Normalized histograms\n",
    "- Plot: y axis: n, N, frequency (%). x-axis:selection stage or each criterion(1,2,3,4).\n"
   ]
  },
  {
   "cell_type": "markdown",
   "metadata": {},
   "source": [
    "3) To quantify how the most typical values for host halo mass and stellar mass cahnge in samples from 2 to 4:\n",
    "- Find the average properties of the sample and analyze how they change with each selection step. \n",
    "- Plot: y-axis: properties of the galaxies: average stellar mass, distance, velocities. x-axis: selection stage. \n"
   ]
  },
  {
   "cell_type": "markdown",
   "metadata": {},
   "source": [
    "Note on defining a mass upper bound on a third object close to the pairs: it depends if we want to study the properties of the satellites close to the subhalo. We can add these properties, contrast with the LMC and the MW-M31 pair. "
   ]
  },
  {
   "cell_type": "code",
   "execution_count": null,
   "metadata": {
    "collapsed": true
   },
   "outputs": [],
   "source": []
  }
 ],
 "metadata": {
  "kernelspec": {
   "display_name": "Python 3",
   "language": "python",
   "name": "python3"
  },
  "language_info": {
   "codemirror_mode": {
    "name": "ipython",
    "version": 3
   },
   "file_extension": ".py",
   "mimetype": "text/x-python",
   "name": "python",
   "nbconvert_exporter": "python",
   "pygments_lexer": "ipython3",
   "version": "3.6.0"
  }
 },
 "nbformat": 4,
 "nbformat_minor": 2
}
