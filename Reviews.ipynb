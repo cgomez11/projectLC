{
 "cells": [
  {
   "cell_type": "markdown",
   "metadata": {},
   "source": [
    "## Meeting 06/07"
   ]
  },
  {
   "cell_type": "markdown",
   "metadata": {},
   "source": [
    "1) Criteria based on observational data, how it mas measured and try to find the closest approach with my data.\n",
    "\n",
    "* Distances in the Local Group are measured with Cepheids. That's imposible to do with the simulation. The best approach is take positions as provide by the simulation.\n",
    "\n",
    "* Radial velocities are measured with spectra. Again the best approach is take peculiar velocities \n",
    "with cosmological expanstion taken into account.\n",
    "\n",
    "* Stellar mass is measured with K-band magnitudes. That could be done with the simulation. However, stellar masses quoted from observations are also OK. We don't need to be precise with the masses See item 2).\n",
    "\n",
    "* Dark Matter halo mass is constrained with rotation curves, that could be done with the simulation\n",
    "but it would be a lot of work. Another option would be using v_max. But everyone uses M_200 masses when DM-only simulations are used (I would keep M_200 masses for that reason). Once again, the exact values are not relevant. See item 2)"
   ]
  },
  {
   "cell_type": "markdown",
   "metadata": {},
   "source": [
    "2)  Different mass constraints if it is a Milky Way or Andromeda Candidate.\n",
    "\n",
    "- The important issue is not having two galaxies in the simulation consistent with the exact values of the MW and M31. Simply because it's highly unlikely to find two galaxies within the observational mass range at the same time. That's why all papers only use a lower bound for the masses (stellar or dark). Keeping this in mind, **getting right a minimal mass is the only important parameter**. \n",
    "After preparing a sample with minimal cuts other people can try their own cuts. \n",
    "\n",
    "**Our goal is to provide a couple of general catalog of LG-like pairs, not to try out every possible cut with more or less precision.**"
   ]
  },
  {
   "cell_type": "markdown",
   "metadata": {},
   "source": [
    "3) Criterion of pairs with relative separations of at least 700 kpc: define an upper bound?\n",
    "\n",
    "* OK with the 700 kpc miminal cut. An upper bound is not needed. "
   ]
  },
  {
   "cell_type": "markdown",
   "metadata": {},
   "source": [
    "4) Fix the implementation fo the isolation criterion (be careful to check all the objects within the sphere).\n",
    "\n",
    "* I don't understand this comment. "
   ]
  },
  {
   "cell_type": "markdown",
   "metadata": {},
   "source": [
    "5) Add the hubble flow to the computation of velocity.\n",
    "\n",
    "* Agree."
   ]
  },
  {
   "cell_type": "markdown",
   "metadata": {},
   "source": [
    "6) Define carefully: for each criterion we must select a field from the simulation, and then generate a number (size) of the sample.\n",
    "\n",
    "* Agree. For stellar mass selection I suggest the corresponding item in`SubhaloMassInHalfRadType`. For dark matter selection I suggest `Group_M_Crit200`.\n",
    "\n",
    "\n",
    "7) Visualize histograms of mass distribution after applying each criterion: identify the subpopulation within the original population. Both for stellar mass and halo mass samples. Distributions of distances within a pair, or velocities. \n",
    "\n",
    "* OK"
   ]
  },
  {
   "cell_type": "markdown",
   "metadata": {},
   "source": [
    "8) Periodic conditions:\n",
    "- Use the periodic distance function.\n",
    "- Apply padding at the edges. (Duda: la continuidad es en cuál dimensión)\n",
    "- Ignore objects at the edges: reduce the volume \n",
    "\n",
    "** Don't ignore objects at the edges!**\n",
    "Cell 21 shows the padding I do to select pairs http://nbviewer.jupyter.org/github/astroandes/IllustrisLG/blob/master/code/CollectPairsLG.ipynb"
   ]
  },
  {
   "cell_type": "markdown",
   "metadata": {},
   "source": [
    "Suggested papers:\n",
    "- https://arxiv.org/pdf/1507.03643.pdf\n",
    "- https://arxiv.org/pdf/1608.00971.pdf"
   ]
  },
  {
   "cell_type": "code",
   "execution_count": null,
   "metadata": {},
   "outputs": [],
   "source": []
  }
 ],
 "metadata": {
  "kernelspec": {
   "display_name": "Python 3",
   "language": "python",
   "name": "python3"
  },
  "language_info": {
   "codemirror_mode": {
    "name": "ipython",
    "version": 3
   },
   "file_extension": ".py",
   "mimetype": "text/x-python",
   "name": "python",
   "nbconvert_exporter": "python",
   "pygments_lexer": "ipython3",
   "version": "3.6.0"
  }
 },
 "nbformat": 4,
 "nbformat_minor": 2
}
